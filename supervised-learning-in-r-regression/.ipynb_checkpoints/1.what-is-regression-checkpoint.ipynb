{
 "cells": [
  {
   "cell_type": "markdown",
   "metadata": {},
   "source": [
    "#### Code a simple one-variable regression\n",
    "For the first coding exercise, you'll create a formula to define a one-variable modeling task, and then fit a linear model to the data. You are given the rates of male and female unemployment in the United States over several years.\n",
    "\n",
    "The task is to predict the rate of female unemployment from the observed rate of male unemployment. The outcome is female_unemployment, and the input is male_unemployment.\n",
    "\n",
    "The sign of the variable coefficient tells you whether the outcome increases (+) or decreases (-) as the variable increases.\n",
    "\n",
    "Recall the calling interface for lm() is:\n",
    "\n",
    "lm(formula, data = ___)\n",
    "\n"
   ]
  },
  {
   "cell_type": "code",
   "execution_count": 2,
   "metadata": {},
   "outputs": [],
   "source": [
    "# load data\n",
    "unemployment <- readRDS(\"data/unemployment.rds\")"
   ]
  },
  {
   "cell_type": "code",
   "execution_count": 3,
   "metadata": {},
   "outputs": [
    {
     "data": {
      "text/plain": [
       " male_unemployment female_unemployment\n",
       " Min.   :2.900     Min.   :4.000      \n",
       " 1st Qu.:4.900     1st Qu.:4.400      \n",
       " Median :6.000     Median :5.200      \n",
       " Mean   :5.954     Mean   :5.569      \n",
       " 3rd Qu.:6.700     3rd Qu.:6.100      \n",
       " Max.   :9.800     Max.   :7.900      "
      ]
     },
     "metadata": {},
     "output_type": "display_data"
    },
    {
     "data": {
      "text/plain": [
       "female_unemployment ~ male_unemployment"
      ]
     },
     "metadata": {},
     "output_type": "display_data"
    },
    {
     "data": {
      "text/plain": [
       "\n",
       "Call:\n",
       "lm(formula = fmla, data = unemployment)\n",
       "\n",
       "Coefficients:\n",
       "      (Intercept)  male_unemployment  \n",
       "           1.4341             0.6945  \n"
      ]
     },
     "metadata": {},
     "output_type": "display_data"
    }
   ],
   "source": [
    "# unemployment is loaded in the workspace\n",
    "summary(unemployment)\n",
    "#  male_unemployment female_unemployment\n",
    "#  Min.   :2.900     Min.   :4.000      \n",
    "#  1st Qu.:4.900     1st Qu.:4.400      \n",
    "#  Median :6.000     Median :5.200      \n",
    "#  Mean   :5.954     Mean   :5.569      \n",
    "#  3rd Qu.:6.700     3rd Qu.:6.100      \n",
    "#  Max.   :9.800     Max.   :7.900\n",
    "\n",
    "# Define a formula to express female_unemployment as a function of male_unemployment\n",
    "fmla <- as.formula(\"female_unemployment ~ male_unemployment\")\n",
    "\n",
    "# Print it\n",
    "fmla\n",
    "# female_unemployment ~ male_unemployment\n",
    "\n",
    "# Use the formula to fit a model: unemployment_model\n",
    "unemployment_model <- lm(fmla, data = unemployment)\n",
    "\n",
    "# Print it\n",
    "unemployment_model\n",
    "# Call:\n",
    "# lm(formula = fmla, data = unemployment)\n",
    "\n",
    "# Coefficients:\n",
    "#       (Intercept)  male_unemployment  \n",
    "#            1.4341             0.6945"
   ]
  },
  {
   "cell_type": "markdown",
   "metadata": {},
   "source": [
    "#### Examining a model\n",
    "Let's look at the model unemployment_model that you have just created. There are a variety of different ways to examine a model; each way provides different information. We will use summary(), broom::glance(), and sigr::wrapFTest()."
   ]
  },
  {
   "cell_type": "code",
   "execution_count": 4,
   "metadata": {},
   "outputs": [
    {
     "data": {
      "text/plain": [
       "\n",
       "Call:\n",
       "lm(formula = fmla, data = unemployment)\n",
       "\n",
       "Coefficients:\n",
       "      (Intercept)  male_unemployment  \n",
       "           1.4341             0.6945  \n"
      ]
     },
     "metadata": {},
     "output_type": "display_data"
    },
    {
     "data": {
      "text/plain": [
       "\n",
       "Call:\n",
       "lm(formula = fmla, data = unemployment)\n",
       "\n",
       "Residuals:\n",
       "     Min       1Q   Median       3Q      Max \n",
       "-0.77621 -0.34050 -0.09004  0.27911  1.31254 \n",
       "\n",
       "Coefficients:\n",
       "                  Estimate Std. Error t value Pr(>|t|)    \n",
       "(Intercept)        1.43411    0.60340   2.377   0.0367 *  \n",
       "male_unemployment  0.69453    0.09767   7.111 1.97e-05 ***\n",
       "---\n",
       "Signif. codes:  0 ‘***’ 0.001 ‘**’ 0.01 ‘*’ 0.05 ‘.’ 0.1 ‘ ’ 1\n",
       "\n",
       "Residual standard error: 0.5803 on 11 degrees of freedom\n",
       "Multiple R-squared:  0.8213,\tAdjusted R-squared:  0.8051 \n",
       "F-statistic: 50.56 on 1 and 11 DF,  p-value: 1.966e-05\n"
      ]
     },
     "metadata": {},
     "output_type": "display_data"
    },
    {
     "ename": "ERROR",
     "evalue": "Error in glance(unemployment_model): could not find function \"glance\"\n",
     "output_type": "error",
     "traceback": [
      "Error in glance(unemployment_model): could not find function \"glance\"\nTraceback:\n"
     ]
    }
   ],
   "source": [
    "# Call summary() on unemployment_model to get more details\n",
    "summary(unemployment_model)\n",
    "# Call:\n",
    "# lm(formula = fmla, data = unemployment)\n",
    "\n",
    "# Residuals:\n",
    "#      Min       1Q   Median       3Q      Max \n",
    "# -0.77621 -0.34050 -0.09004  0.27911  1.31254 \n",
    "\n",
    "# Coefficients:\n",
    "#                   Estimate Std. Error t value Pr(>|t|)    \n",
    "# (Intercept)        1.43411    0.60340   2.377   0.0367 *  \n",
    "# male_unemployment  0.69453    0.09767   7.111 1.97e-05 ***\n",
    "# ---\n",
    "# Signif. codes:  0 '***' 0.001 '**' 0.01 '*' 0.05 '.' 0.1 ' ' 1\n",
    "\n",
    "# Residual standard error: 0.5803 on 11 degrees of freedom\n",
    "# Multiple R-squared:  0.8213,\tAdjusted R-squared:  0.8051 \n",
    "# F-statistic: 50.56 on 1 and 11 DF,  p-value: 1.966e-05\n",
    "\n",
    "# Call glance() on unemployment_model to see the details in a tidier form\n",
    "glance(unemployment_model)\n",
    "#   r.squared adj.r.squared     sigma statistic      p.value df    logLik\n",
    "# 1 0.8213157     0.8050716 0.5802596  50.56108 1.965985e-05  2 -10.28471\n",
    "#        AIC      BIC deviance df.residual\n",
    "# 1 26.56943 28.26428 3.703714          11\n",
    "\n",
    "# Call wrapFTest() on unemployment_model to see the most relevant details\n",
    "wrapFTest(unemployment_model)\n",
    "# [1] \"F Test summary: (R2=0.8213, F(1,11)=50.56, p=1.966e-05).\""
   ]
  },
  {
   "cell_type": "markdown",
   "metadata": {},
   "source": [
    "#### Predicting from the unemployment model\n",
    "In this exercise, you will use your unemployment model unemployment_model to make predictions from the unemployment data, and compare predicted female unemployment rates to the actual observed female unemployment rates on the training data, unemployment. You will also use your model to predict on the new data in newrates, which consists of only one observation, where male unemployment is 5%.\n",
    "\n",
    "The predict() interface for lm models takes the form\n",
    "```predict(model, newdata)``` <br>\n",
    "You will use the ggplot2 package to make the plots, so you will add the prediction column to the unemployment data frame. You will plot outcome versus prediction, and compare them to the line that represents perfect predictions (that is when the outcome is equal to the predicted value).\n",
    "\n",
    "The ggplot2 command to plot a scatterplot of dframe\\\\$outcome versus dframe\\\\$pred (pred on the x axis, outcome on the y axis), along with a blue line where outcome == pred is as follows:"
   ]
  },
  {
   "cell_type": "code",
   "execution_count": null,
   "metadata": {},
   "outputs": [],
   "source": [
    "# newrates is in your workspace\n",
    "newrates\n",
    "#   male_unemployment\n",
    "# 1                 5\n",
    "\n",
    "# Predict female unemployment in the unemployment data set\n",
    "unemployment$prediction <-  predict(unemployment_model, unemployment)\n",
    "\n",
    "# load the ggplot2 package\n",
    "library(ggplot2)\n",
    "\n",
    "# Make a plot to compare predictions to actual (prediction on x axis). \n",
    "ggplot(unemployment, aes(x = prediction, y = female_unemployment)) +\n",
    "  geom_point() +\n",
    "  geom_abline(color = \"blue\")\n",
    "\n",
    "# Predict female unemployment rate when male unemployment is 5%\n",
    "pred <- predict(unemployment_model, newrates)\n",
    "\n",
    "# Print it\n",
    "pred\n",
    "#        1 \n",
    "# 4.906757"
   ]
  },
  {
   "cell_type": "markdown",
   "metadata": {},
   "source": [
    "![linear_reg_1](./figures/linear_reg_1.png)"
   ]
  },
  {
   "cell_type": "markdown",
   "metadata": {},
   "source": [
    "#### Multivariate linear regression - build the model\n",
    "In this exercise, you will work with the blood pressure dataset (Source), and model blood_pressure as a function of weight and age."
   ]
  },
  {
   "cell_type": "code",
   "execution_count": null,
   "metadata": {},
   "outputs": [],
   "source": [
    "# bloodpressure is in the workspace\n",
    "summary(bloodpressure)\n",
    "#  blood_pressure       age            weight   \n",
    "#  Min.   :128.0   Min.   :46.00   Min.   :167  \n",
    "#  1st Qu.:140.0   1st Qu.:56.50   1st Qu.:186  \n",
    "#  Median :153.0   Median :64.00   Median :194  \n",
    "#  Mean   :150.1   Mean   :62.45   Mean   :195  \n",
    "#  3rd Qu.:160.5   3rd Qu.:69.50   3rd Qu.:209  \n",
    "#  Max.   :168.0   Max.   :74.00   Max.   :220\n",
    "\n",
    "# Create the formula and print it\n",
    "fmla <- blood_pressure ~ weight + age\n",
    "fmla\n",
    "# blood_pressure ~ weight + age\n",
    "\n",
    "# Fit the model: bloodpressure_model\n",
    "bloodpressure_model <- lm(fmla, data = bloodpressure)\n",
    "\n",
    "# Print bloodpressure_model and call summary() \n",
    "bloodpressure_model\n",
    "# Call:\n",
    "# lm(formula = fmla, data = bloodpressure)\n",
    "\n",
    "# Coefficients:\n",
    "# (Intercept)       weight          age  \n",
    "#     30.9941       0.3349       0.8614\n",
    "\n",
    "summary(bloodpressure_model)\n",
    "# Call:\n",
    "# lm(formula = fmla, data = bloodpressure)\n",
    "\n",
    "# Residuals:\n",
    "#     Min      1Q  Median      3Q     Max \n",
    "# -3.4640 -1.1949 -0.4078  1.8511  2.6981 \n",
    "\n",
    "# Coefficients:\n",
    "#             Estimate Std. Error t value Pr(>|t|)   \n",
    "# (Intercept)  30.9941    11.9438   2.595  0.03186 * \n",
    "# weight        0.3349     0.1307   2.563  0.03351 * \n",
    "# age           0.8614     0.2482   3.470  0.00844 **\n",
    "# ---\n",
    "# Signif. codes:  0 '***' 0.001 '**' 0.01 '*' 0.05 '.' 0.1 ' ' 1\n",
    "\n",
    "# Residual standard error: 2.318 on 8 degrees of freedom\n",
    "# Multiple R-squared:  0.9768,\tAdjusted R-squared:  0.9711 \n",
    "# F-statistic: 168.8 on 2 and 8 DF,  p-value: 2.874e-07"
   ]
  },
  {
   "cell_type": "markdown",
   "metadata": {},
   "source": [
    "#### Multivariate linear regression - prediction\n",
    "Now you will make predictions using the blood pressure model bloodpressure_model that you fit in the previous exercise.\n",
    "\n",
    "You will also compare the predictions to outcomes graphically. ggplot2 is already loaded in your workspace. Recall the plot command takes the form:\n",
    "\n",
    "ggplot(dframe, aes(x = pred, y = outcome)) + \n",
    "     geom_point() + \n",
    "     geom_abline(color = \"blue\")"
   ]
  },
  {
   "cell_type": "code",
   "execution_count": null,
   "metadata": {},
   "outputs": [],
   "source": [
    "# predict blood pressure using bloodpressure_model :prediction\n",
    "bloodpressure$prediction <- predict(bloodpressure_model, bloodpressure)\n",
    "\n",
    "# plot the results\n",
    "ggplot(bloodpressure, aes(x = prediction, y = blood_pressure)) +\n",
    "    geom_point() +\n",
    "    geom_abline(color = \"blue\")"
   ]
  },
  {
   "cell_type": "markdown",
   "metadata": {},
   "source": [
    "![linear_reg_2](./figures/linear_reg_2.png)"
   ]
  }
 ],
 "metadata": {
  "kernelspec": {
   "display_name": "R [conda env:CHIAPETR]",
   "language": "R",
   "name": "conda-env-CHIAPETR-r"
  },
  "language_info": {
   "codemirror_mode": "r",
   "file_extension": ".r",
   "mimetype": "text/x-r-source",
   "name": "R",
   "pygments_lexer": "r",
   "version": "3.6.0"
  }
 },
 "nbformat": 4,
 "nbformat_minor": 2
}
