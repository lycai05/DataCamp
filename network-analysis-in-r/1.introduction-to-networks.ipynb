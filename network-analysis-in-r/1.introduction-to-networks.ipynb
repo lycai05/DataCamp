{
 "cells": [
  {
   "cell_type": "code",
   "execution_count": 1,
   "metadata": {},
   "outputs": [
    {
     "name": "stderr",
     "output_type": "stream",
     "text": [
      "Warning message:\n",
      "“package ‘igraph’ was built under R version 3.6.1”"
     ]
    },
    {
     "ename": "ERROR",
     "evalue": "Error: package or namespace load failed for ‘igraph’ in dyn.load(file, DLLpath = DLLpath, ...):\n unable to load shared object '/Users/cail/anaconda/envs/CHIAPETR/lib/R/library/igraph/libs/igraph.dylib':\n  dlopen(/Users/cail/anaconda/envs/CHIAPETR/lib/R/library/igraph/libs/igraph.dylib, 6): Library not loaded: @rpath/libopenblasp-r0.3.7.dylib\n  Referenced from: /Users/cail/anaconda/envs/CHIAPETR/lib/R/library/igraph/libs/igraph.dylib\n  Reason: image not found\n",
     "output_type": "error",
     "traceback": [
      "Error: package or namespace load failed for ‘igraph’ in dyn.load(file, DLLpath = DLLpath, ...):\n unable to load shared object '/Users/cail/anaconda/envs/CHIAPETR/lib/R/library/igraph/libs/igraph.dylib':\n  dlopen(/Users/cail/anaconda/envs/CHIAPETR/lib/R/library/igraph/libs/igraph.dylib, 6): Library not loaded: @rpath/libopenblasp-r0.3.7.dylib\n  Referenced from: /Users/cail/anaconda/envs/CHIAPETR/lib/R/library/igraph/libs/igraph.dylib\n  Reason: image not found\nTraceback:\n",
      "1. library(igraph)",
      "2. tryCatch({\n .     attr(package, \"LibPath\") <- which.lib.loc\n .     ns <- loadNamespace(package, lib.loc)\n .     env <- attachNamespace(ns, pos = pos, deps, exclude, include.only)\n . }, error = function(e) {\n .     P <- if (!is.null(cc <- conditionCall(e))) \n .         paste(\" in\", deparse(cc)[1L])\n .     else \"\"\n .     msg <- gettextf(\"package or namespace load failed for %s%s:\\n %s\", \n .         sQuote(package), P, conditionMessage(e))\n .     if (logical.return) \n .         message(paste(\"Error:\", msg), domain = NA)\n .     else stop(msg, call. = FALSE, domain = NA)\n . })",
      "3. tryCatchList(expr, classes, parentenv, handlers)",
      "4. tryCatchOne(expr, names, parentenv, handlers[[1L]])",
      "5. value[[3L]](cond)",
      "6. stop(msg, call. = FALSE, domain = NA)"
     ]
    }
   ],
   "source": [
    "library(igraph)"
   ]
  },
  {
   "cell_type": "markdown",
   "metadata": {},
   "source": [
    "#### Creating an igraph object\n",
    "Here you will learn how to create an igraph 'object' from data stored in an edgelist. The data are friendships in a group of students. You will also learn how to make a basic visualization of the network.\n",
    "\n",
    "Each row of the friends dataframe represents an edge in the network."
   ]
  },
  {
   "cell_type": "code",
   "execution_count": null,
   "metadata": {},
   "outputs": [],
   "source": [
    "# Load igraph\n",
    "library(igraph)\n",
    "\n",
    "# Inspect the first few rows of the dataframe 'friends'\n",
    "head(friends)\n",
    "\n",
    "# Convert friends dataframe to a matrix\n",
    "friends.mat <- as.matrix(friends)\n",
    "\n",
    "# Convert friends matrix to an igraph object\n",
    "g <- graph.edgelist(friends.mat, directed = FALSE)\n",
    "\n",
    "# Subset vertices and edges\n",
    "V(g)\n",
    "E(g)\n",
    "\n",
    "# Count number of edges\n",
    "gsize(g)\n",
    "\n",
    "# Count number of vertices\n",
    "gorder(g)"
   ]
  },
  {
   "cell_type": "markdown",
   "metadata": {},
   "source": [
    "#### Node attributes and subsetting"
   ]
  },
  {
   "cell_type": "code",
   "execution_count": null,
   "metadata": {},
   "outputs": [],
   "source": [
    "# Inspect the objects 'genders' and 'ages'\n",
    "genders\n",
    "ages\n",
    "\n",
    "# Create new vertex attribute called 'gender'\n",
    "g <- set_vertex_attr(g, \"gender\", value = genders)\n",
    "\n",
    "# Create new vertex attribute called 'age'\n",
    "g <- set_vertex_attr(g, \"age\", value = ages)\n",
    "\n",
    "# View all vertex attributes in a list\n",
    "vertex_attr(g)\n",
    "\n",
    "# View attributes of first five vertices in a dataframe\n",
    "V(g)[[1:5]] "
   ]
  },
  {
   "cell_type": "markdown",
   "metadata": {},
   "source": [
    "#### Edge attributes and subsetting"
   ]
  },
  {
   "cell_type": "code",
   "execution_count": null,
   "metadata": {},
   "outputs": [],
   "source": [
    "# View hours\n",
    "hours\n",
    "\n",
    "# Create new edge attribute called 'hours'\n",
    "g <- set_edge_attr(g, \"hours\", value = hours)\n",
    "\n",
    "# View edge attributes of graph object\n",
    "edge_attr(g)\n",
    "\n",
    "# Find all edges that include \"Britt\"\n",
    "E(g)[[inc('Britt')]]  \n",
    "\n",
    "# Find all pairs that spend 4 or more hours together per week\n",
    "E(g)[[hours>=4]] "
   ]
  },
  {
   "cell_type": "markdown",
   "metadata": {},
   "source": [
    "#### Visualizing attributes"
   ]
  },
  {
   "cell_type": "code",
   "execution_count": null,
   "metadata": {},
   "outputs": [],
   "source": [
    "# Create an igraph object with attributes directly from dataframes\n",
    "g1 <- graph_from_data_frame(d = friends1_edges, vertices = friends1_nodes, directed = FALSE)\n",
    "\n",
    "# Subset edges greater than or equal to 5 hours\n",
    "E(g1)[[hours >= 5]]  \n",
    "\n",
    "# Set vertex color by gender\n",
    "V(g1)$color <- ifelse(V(g1)$gender == \"female\", \"orange\", \"dodgerblue\")\n",
    "\n",
    "# Plot the graph\n",
    "plot(g1, vertex.label.color = \"black\")"
   ]
  },
  {
   "cell_type": "markdown",
   "metadata": {},
   "source": [
    "#### igraph network layouts\n",
    "The igraph package provides several built in layout algorithms for network visualization. Depending upon the size of a given network different layouts may be more effective in communicating the structure of the network. Ideally the best layout is the one that minimizes the number of edges that cross each other in the network. In this exercise you will explore just a few of the many default layout algorithms. Re-executing the code for each plot will lead to a slightly different version of the same layout type. Doing this a few times can help to find the best looking visualization for your network."
   ]
  },
  {
   "cell_type": "code",
   "execution_count": null,
   "metadata": {},
   "outputs": [],
   "source": [
    "# Plot the graph object g1 in a circle layout\n",
    "plot(g1, vertex.label.color = \"black\", layout = layout_in_circle(g1))\n",
    "\n",
    "# Plot the graph object g1 in a Fruchterman-Reingold layout \n",
    "plot(g1, vertex.label.color = \"black\", layout = layout_with_fr(g1))\n",
    "\n",
    "# Plot the graph object g1 in a Tree layout \n",
    "m <- layout_as_tree(g1)\n",
    "plot(g1, vertex.label.color = \"black\", layout = m)\n",
    "\n",
    "# Plot the graph object g1 using igraph's chosen layout \n",
    "m1 <- layout_nicely(g1)\n",
    "plot(g1, vertex.label.color = \"black\", layout = m1)"
   ]
  },
  {
   "cell_type": "markdown",
   "metadata": {},
   "source": [
    "#### Visualizing edges\n",
    "In this exercise you will learn how to change the size of edges in a network based on their weight, as well as how to remove edges from a network which can sometimes be helpful in more effectively visualizing large and highly clustered networks. In this introductory chapter, we have just scratched the surface of what's possible in visualizing igraph networks. You will continue to develop these skills in future chapters."
   ]
  },
  {
   "cell_type": "code",
   "execution_count": null,
   "metadata": {},
   "outputs": [],
   "source": [
    "# Create a vector of weights based on the number of hours each pair spend together\n",
    "w1 <- E(g1)$hours\n",
    "\n",
    "# Plot the network varying edges by weights\n",
    "m1 <- layout_nicely(g1)\n",
    "plot(g1, \n",
    "        vertex.label.color = \"black\", \n",
    "        edge.color = 'black',\n",
    "        edge.width = w1,\n",
    "        layout = m1)\n",
    "\n",
    "# Create a new igraph object by deleting edges that are less than 2 hours long \n",
    "g2 <- delete_edges(g1, E(g1)[hours < 2])\n",
    "\n",
    "# Plot the new graph \n",
    "w2 <- E(g2)$hours\n",
    "m2 <- layout_nicely(g2)\n",
    "\n",
    "plot(g2, \n",
    "     vertex.label.color = \"black\", \n",
    "     edge.color = 'black',\n",
    "     edge.width = w2,\n",
    "     layout = m2)"
   ]
  }
 ],
 "metadata": {
  "kernelspec": {
   "display_name": "R",
   "language": "R",
   "name": "ir"
  },
  "language_info": {
   "codemirror_mode": "r",
   "file_extension": ".r",
   "mimetype": "text/x-r-source",
   "name": "R",
   "pygments_lexer": "r",
   "version": "3.6.0"
  }
 },
 "nbformat": 4,
 "nbformat_minor": 2
}
