{
 "cells": [
  {
   "cell_type": "code",
   "execution_count": null,
   "metadata": {},
   "outputs": [],
   "source": [
    "Directed igraph objects\n",
    "In this exercise you will learn how to create a directed graph from a dataframe, how to inspect whether a graph object is directed and/or weighted and how to extract those vertices at the beginning and end of directed edges."
   ]
  },
  {
   "cell_type": "code",
   "execution_count": null,
   "metadata": {},
   "outputs": [],
   "source": [
    "# Get the graph object\n",
    "g <- graph_from_data_frame(measles, directed = TRUE)\n",
    "\n",
    "# is the graph directed?\n",
    "is.directed(g)\n",
    "\n",
    "# Is the graph weighted?\n",
    "is.weighted(g)\n",
    "\n",
    "# Where does each edge originate from?\n",
    "# This function takes two arguments, the first being the graph object and the second the edges to examine.\n",
    "table(head_of(g, E(g)))"
   ]
  },
  {
   "cell_type": "code",
   "execution_count": null,
   "metadata": {},
   "outputs": [],
   "source": [
    "Identifying edges for each vertex\n",
    "In this exercise you will learn how to identify particular edges. You will learn how to determine if an edge exists between two vertices as well as finding all vertices connected in either direction to a given vertex."
   ]
  },
  {
   "cell_type": "code",
   "execution_count": null,
   "metadata": {},
   "outputs": [],
   "source": [
    "# Make a basic plot\n",
    "plot(g, \n",
    "     vertex.label.color = \"black\", \n",
    "     edge.color = 'gray77',\n",
    "     vertex.size = 0,\n",
    "     edge.arrow.size = 0.1,\n",
    "     layout = layout_nicely(g))\n",
    "\n",
    "# Is there an edge going from vertex 184 to vertex 178?\n",
    "# If a 1 is returned that indicates TRUE there is an edge. If a 0 is returned that indicates FALSE there is not an edge.\n",
    "g['184', '178']\n",
    "\n",
    "# Is there an edge going from vertex 178 to vertex 184?\n",
    "g['178', '184']\n",
    "\n",
    "# Show all edges going to or from vertex 184\n",
    "# Using the function incident() identify those edges that go in either direction from vertex 184 or only those going out from vertex 184. The first argument should be the graph object, the second should be the vertex to examine and the third argument the mode indicating the direction. Choose from all, in and out.\n",
    "incident(g, '184', mode = c(\"all\"))\n",
    "\n",
    "# Show all edges going out from vertex 184\n",
    "incident(g, '184', mode = c(\"out\"))"
   ]
  },
  {
   "cell_type": "code",
   "execution_count": null,
   "metadata": {},
   "outputs": [],
   "source": [
    "Neighbors\n",
    "Often in network analysis it is important to explore the patterning of connections that exist between vertices. One way is to identify neighboring vertices of each vertex. You can then determine which neighboring vertices are shared even by unconnected vertices indicating how two vertices may have an indirect relationship through others. In this exercise you will learn how to identify neighbors and shared neighbors between pairs of vertices."
   ]
  },
  {
   "cell_type": "code",
   "execution_count": null,
   "metadata": {},
   "outputs": [],
   "source": [
    "# Identify all neighbors of vertex 12 regardless of direction\n",
    "neighbors(g, '12', mode = c('all'))\n",
    "\n",
    "# Identify other vertices that direct edges towards vertex 12\n",
    "neighbors(g, '12', mode = c('in'))\n",
    "\n",
    "# Identify any vertices that receive an edge from vertex 42 and direct an edge to vertex 124\n",
    "n1 <- neighbors(g, '42', mode = c('out'))\n",
    "n2 <- neighbors(g, '124', mode = c('in'))\n",
    "intersection(n1, n2)"
   ]
  },
  {
   "cell_type": "code",
   "execution_count": null,
   "metadata": {},
   "outputs": [],
   "source": [
    "Distances between vertices\n",
    "The inter-connectivity of a network can be assessed by examining the number and length of paths between vertices. A path is simply the chain of connections between vertices. The number of intervening edges between two vertices represents the geodesic distance between vertices. Vertices that are connected to each other have a geodesic distance of 1. Those that share a neighbor in common but are not connected to each other have a geodesic distance of 2 and so on. In directed networks, the direction of edges can be taken into account. If two vertices cannot be reached via following directed edges they are given a geodesic distance of infinity. In this exercise you will learn how to find the longest paths between vertices in a network and how to discern those vertices that are within n connections of a given vertex. For disease transmission networks such as the measles dataset this helps you to identify how quickly the disease spreads through the network."
   ]
  },
  {
   "cell_type": "code",
   "execution_count": null,
   "metadata": {},
   "outputs": [],
   "source": [
    "# Which two vertices are the furthest apart in the graph ?\n",
    "farthest_vertices(g) \n",
    "\n",
    "# Shows the path sequence between two furthest apart vertices.\n",
    "get_diameter(g)  \n",
    "\n",
    "# Identify vertices that are reachable within two connections from vertex 42\n",
    "ego(g, 2, '42', mode = c('out'))\n",
    "\n",
    "# Identify vertices that can reach vertex 42 within two connections\n",
    "# Use ego() to find all vertices that are reachable within 2 connections of vertex 42 and then those that can reach vertex 42 within two connections. The first argument of ego() is the graph object, the second argument is the maximum number of connections between the vertices, the third argument is the vertex of interest, and the fourth argument determines if you are considering connections going out or into the vertex of interest.\n",
    "ego(g, 2, '42', mode = c('in'))"
   ]
  },
  {
   "cell_type": "code",
   "execution_count": null,
   "metadata": {},
   "outputs": [],
   "source": [
    "Identifying key vertices\n",
    "Perhaps the most straightforward measure of vertex importance is the degree of a vertex. The out-degree of a vertex is the number of other individuals to which a vertex has an outgoing edge directed to. The in-degree is the number of edges received from other individuals. In the measles network, individuals that infect many other individuals will have a high out-degree. In this exercise you will identify whether individuals infect equivalent amount of other children or if there are key children who have high out-degrees and infect many other children."
   ]
  },
  {
   "cell_type": "code",
   "execution_count": null,
   "metadata": {},
   "outputs": [],
   "source": [
    "# Calculate the out-degree of each vertex\n",
    "g.outd <- degree(g, mode = c(\"out\"))\n",
    "\n",
    "# View a summary of out-degree\n",
    "table(g.outd)\n",
    "\n",
    "# Make a histogram of out-degrees\n",
    "hist(g.outd, breaks = 30)\n",
    "\n",
    "# Find the vertex that has the maximum out-degree\n",
    "which.max(g.outd)"
   ]
  },
  {
   "cell_type": "code",
   "execution_count": null,
   "metadata": {},
   "outputs": [],
   "source": [
    "Betweenness\n",
    "Another measure of the importance of a given vertex is its betweenness. This is an index of how frequently the vertex lies on shortest paths between any two vertices in the network. It can be thought of as how critical the vertex is to the flow of information through a network. Individuals with high betweenness are key bridges between different parts of a network. In our measles transmission network, vertices with high betweenness are those children who were central to passing on the disease to other parts of the network. In this exercise, you will identify the betweenness score for each vertex and then make a new plot of the network adjusting the vertex size by its betweenness score to highlight these key vertices."
   ]
  },
  {
   "cell_type": "code",
   "execution_count": null,
   "metadata": {},
   "outputs": [],
   "source": [
    "# Calculate betweenness of each vertex\n",
    "g.b <- betweenness(g, directed = TRUE)\n",
    "\n",
    "# Show histogram of vertex betweenness\n",
    "hist(g.b, breaks = 80)\n",
    "\n",
    "# Create plot with vertex size determined by betweenness score\n",
    "plot(g, \n",
    "     vertex.label = NA,\n",
    "     edge.color = 'black',\n",
    "     vertex.size = sqrt(g.b)+1,\n",
    "     edge.arrow.size = 0.05,\n",
    "     layout = layout_nicely(g))"
   ]
  },
  {
   "cell_type": "markdown",
   "metadata": {},
   "source": [
    "#### Visualizing important nodes and edges\n",
    "One issue with the measles dataset is that there are three individuals for whom no information is known about who infected them. One of these individuals (vertex 184) appears ultimately responsible for spreading the disease to many other individuals even though they did not directly infect too many individuals. However, because vertex 184 has no incoming edge in the network they appear to have low betweenness. One way to explore the importance of this vertex is by visualizing the geodesic distances of connections going out from this individual. In this exercise you shall create a plot of these distances from this patient zero."
   ]
  },
  {
   "cell_type": "code",
   "execution_count": null,
   "metadata": {},
   "outputs": [],
   "source": [
    "# Make an ego graph\n",
    "g184 <- make_ego_graph(g, diameter(g), nodes = '184', mode = c(\"all\"))[[1]]\n",
    "\n",
    "# Get a vector of geodesic distances of all vertices from vertex 184 \n",
    "dists <- distances(g184, \"184\")\n",
    "\n",
    "# Create a color palette of length equal to the maximal geodesic distance plus one.\n",
    "colors <- c(\"black\", \"red\", \"orange\", \"blue\", \"dodgerblue\", \"cyan\")\n",
    "\n",
    "# Set color attribute to vertices of network g184.\n",
    "V(g184)$color <- colors[dists+1]\n",
    "\n",
    "# Visualize the network based on geodesic distance from vertex 184 (patient zero).\n",
    "plot(g184, \n",
    "     vertex.label = dists, \n",
    "     vertex.label.color = \"white\",\n",
    "     vertex.label.cex = .6,\n",
    "     edge.color = 'black',\n",
    "     vertex.size = 7,\n",
    "     edge.arrow.size = .05,\n",
    "     main = \"Geodesic Distances from Patient Zero\"\n",
    "     )"
   ]
  }
 ],
 "metadata": {
  "kernelspec": {
   "display_name": "R [conda env:CHIAPETR]",
   "language": "R",
   "name": "conda-env-CHIAPETR-r"
  },
  "language_info": {
   "codemirror_mode": "r",
   "file_extension": ".r",
   "mimetype": "text/x-r-source",
   "name": "R",
   "pygments_lexer": "r",
   "version": "3.6.0"
  }
 },
 "nbformat": 4,
 "nbformat_minor": 2
}
