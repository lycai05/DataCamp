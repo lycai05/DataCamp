{
 "cells": [
  {
   "cell_type": "markdown",
   "metadata": {},
   "source": [
    "#### Modeling Corn Production\n",
    "Suppose that you manage a small corn farm and are interested in optimizing your costs. In this exercise, we will model the production of corn.\n",
    "\n",
    "For simplicity, let's assume that corn production depends on only two factors: rain, which you don't control, and cost, which you control. Rain is normally distributed with mean 50 and standard deviation 15. For now, let's fix cost at 5,000. Corn produced in any season is a Poisson random variable while the average corn production is governed by the equation:\n",
    "\n",
    "100×(cost)0.1×(rain)0.2\n",
    "Let's model this production function and simulate one outcome."
   ]
  },
  {
   "cell_type": "code",
   "execution_count": null,
   "metadata": {},
   "outputs": [],
   "source": [
    "# Initialize variables\n",
    "cost = 5000\n",
    "rain = np.random.normal(50, 15)\n",
    "\n",
    "# Corn Production Model\n",
    "def corn_produced(rain, cost):\n",
    "  mean_corn = 100 * (cost**0.1) * (rain**0.2)\n",
    "  corn = np.random.poisson(lam = mean_corn)\n",
    "  return corn\n",
    "\n",
    "# Simulate and print corn production\n",
    "corn_result = corn_produced(rain, cost)\n",
    "print(\"Simulated Corn Production = {}\".format(corn_result))"
   ]
  },
  {
   "cell_type": "markdown",
   "metadata": {},
   "source": [
    "#### Modeling Profits\n",
    "In the previous exercise, you built a model of corn production. For a small farm, you typically have no control over the price or demand for corn. Suppose that price is normally distributed with mean 40 and standard deviation 10. You are given a function corn_demanded(), which takes the price and determines the demand for corn. This is reasonable because demand is usually determined by the market and is not in your control.\n",
    "\n",
    "In this exercise, you will work on a function to calculate the profit by pulling together all the other simulated variables. The only input to this function will be the cost. Upon completion, you will have a function that will give you one simulated profit outcome for a given cost. This function can then be used for planning your costs."
   ]
  },
  {
   "cell_type": "code",
   "execution_count": null,
   "metadata": {},
   "outputs": [],
   "source": [
    "def corn_demanded(price):\n",
    "    mean_corn = 1000 - 8*price\n",
    "    corn = np.random.poisson(abs(mean_corn))\n",
    "    return corn\n",
    "\n",
    "# Function to calculate profits\n",
    "def profits(cost):\n",
    "    rain = np.random.normal(50, 15)\n",
    "    price = np.random.normal(40, 10)\n",
    "    supply = corn_produced(rain, cost)\n",
    "    demand = corn_demanded(price)\n",
    "    equil_short = supply <= demand\n",
    "    if equil_short == True:\n",
    "        tmp = supply * price - cost\n",
    "        return tmp\n",
    "    else: \n",
    "        tmp2 = demand * price - cost\n",
    "        return tmp2\n",
    "result = profits(cost)\n",
    "print(\"Simulated profit = {}\".format(result))"
   ]
  },
  {
   "cell_type": "markdown",
   "metadata": {},
   "source": [
    "#### Optimizing Costs\n",
    "Now we will use the functions you've built to optimize our cost of production. We are interested in maximizing average profits. However, our profits depend on a number of factors, but we only control cost. Thus, we can simulate the uncertainty in the other factors and vary cost to see how our profits are impacted.\n",
    "\n",
    "Since you manage the small corn farm, you have the ability to choose your cost - from $100 to $5,000. You want to choose the cost that gives you the maximum average profit. In this exercise, we will simulate multiple outcomes for each cost level and calculate an average. We will then choose the cost that gives us the maximum mean profit. Upon completion, you will have a framework for selecting optimal inputs for business decisions."
   ]
  },
  {
   "cell_type": "code",
   "execution_count": null,
   "metadata": {},
   "outputs": [],
   "source": [
    "# Initialize results and cost_levels variables\n",
    "sims, results = 1000, {}\n",
    "cost_levels = np.arange(100, 5100, 100)\n",
    "\n",
    "# For each cost level, simulate profits and store mean profit\n",
    "for cost in cost_levels:\n",
    "    tmp_profits = []\n",
    "    for i in range(sims):\n",
    "        tmp_profits.appqend(profits(cost))\n",
    "    results[cost] = np.mean(tmp_profits)\n",
    "    \n",
    "# Get the cost that maximizes average profit\n",
    "cost_max = [x for x in results.keys() if results[x] == max(results.values())][0]\n",
    "print(\"Average profit is maximized when cost = {}\".format(cost_max))"
   ]
  },
  {
   "cell_type": "markdown",
   "metadata": {},
   "source": []
  },
  {
   "cell_type": "code",
   "execution_count": null,
   "metadata": {},
   "outputs": [],
   "source": []
  }
 ],
 "metadata": {
  "kernelspec": {
   "display_name": "Python [conda env:jupyterlab]",
   "language": "python",
   "name": "conda-env-jupyterlab-py"
  },
  "language_info": {
   "codemirror_mode": {
    "name": "ipython",
    "version": 3
   },
   "file_extension": ".py",
   "mimetype": "text/x-python",
   "name": "python",
   "nbconvert_exporter": "python",
   "pygments_lexer": "ipython3",
   "version": "3.6.7"
  }
 },
 "nbformat": 4,
 "nbformat_minor": 2
}
