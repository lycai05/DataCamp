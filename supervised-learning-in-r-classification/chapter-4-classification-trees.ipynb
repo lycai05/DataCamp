{
 "cells": [
  {
   "cell_type": "markdown",
   "metadata": {},
   "source": [
    "#### Building a simple decision tree\n",
    "The loans dataset contains 11,312 randomly-selected people who applied for and later received loans from Lending Club, a US-based peer-to-peer lending company.\n",
    "\n",
    "You will use a decision tree to try to learn patterns in the outcome of these loans (either repaid or default) based on the requested loan amount and credit score at the time of application.\n",
    "\n",
    "Then, see how the tree's predictions differ for an applicant with good credit versus one with bad credit.\n",
    "\n",
    "The dataset loans is already in your workspace."
   ]
  },
  {
   "cell_type": "code",
   "execution_count": null,
   "metadata": {},
   "outputs": [],
   "source": [
    "# Load the rpart package\n",
    "library(rpart)\n",
    "\n",
    "str(loans)\n",
    "# 'data.frame':\t11312 obs. of  14 variables:\n",
    "#  $ loan_amount       : Factor w/ 3 levels \"HIGH\",\"LOW\",\"MEDIUM\": 2 2 2 3 2 3 3 2 1 3 ...\n",
    "#  $ emp_length        : Factor w/ 5 levels \"10+ years\",\"2 - 5 years\",..: 1 4 3 2 4 4 2 1 1 4 ...\n",
    "#  $ home_ownership    : Factor w/ 4 levels \"MORTGAGE\",\"OTHER\",..: 4 4 4 3 4 4 4 1 4 4 ...\n",
    "#  $ income            : Factor w/ 3 levels \"HIGH\",\"LOW\",\"MEDIUM\": 2 2 3 3 2 2 1 1 1 3 ...\n",
    "#  $ loan_purpose      : Factor w/ 14 levels \"car\",\"credit_card\",..: 2 1 1 12 10 3 10 7 3 7 ...\n",
    "#  $ debt_to_income    : Factor w/ 3 levels \"AVERAGE\",\"HIGH\",..: 2 3 3 3 1 1 3 1 1 3 ...\n",
    "#  $ credit_score      : Factor w/ 3 levels \"AVERAGE\",\"HIGH\",..: 1 1 3 1 1 1 1 2 1 1 ...\n",
    "#  $ recent_inquiry    : Factor w/ 2 levels \"NO\",\"YES\": 2 2 2 2 1 2 2 1 1 2 ...\n",
    "#  $ delinquent        : Factor w/ 3 levels \"IN PAST 2 YEARS\",..: 3 3 3 3 3 3 3 3 3 3 ...\n",
    "#  $ credit_accounts   : Factor w/ 3 levels \"AVERAGE\",\"FEW\",..: 2 2 2 1 2 2 3 3 1 1 ...\n",
    "#  $ bad_public_record : Factor w/ 2 levels \"NO\",\"YES\": 1 1 1 1 1 1 1 1 1 1 ...\n",
    "#  $ credit_utilization: Factor w/ 3 levels \"HIGH\",\"LOW\",\"MEDIUM\": 1 2 1 3 3 1 3 2 1 3 ...\n",
    "#  $ past_bankrupt     : Factor w/ 2 levels \"NO\",\"YES\": 1 1 1 1 1 1 1 1 1 1 ...\n",
    "#  $ outcome           : Factor w/ 2 levels \"default\",\"repaid\": 2 1 2 1 1 1 1 2 1 1 ...\n",
    "\n",
    "# Build a lending model predicting loan outcome versus loan amount and credit score\n",
    "loan_model <- rpart(outcome ~ loan_amount + credit_score, data = loans, method = \"class\", control = rpart.control(cp = 0))\n",
    "\n",
    "# Make a prediction for someone with good credit\n",
    "predict(loan_model, good_credit, type = \"class\")\n",
    "#      1 \n",
    "# repaid \n",
    "# Levels: default repaid\n",
    "\n",
    "# Make a prediction for someone with bad credit\n",
    "predict(loan_model, bad_credit, type = \"class\")\n",
    "#       1 \n",
    "# default \n",
    "# Levels: default repaid"
   ]
  },
  {
   "cell_type": "markdown",
   "metadata": {},
   "source": [
    "#### Visualizing classification trees\n",
    "Due to government rules to prevent illegal discrimination, lenders are required to explain why a loan application was rejected.\n",
    "\n",
    "The structure of classification trees can be depicted visually, which helps to understand how the tree makes its decisions. The model loan_model that you fit in the last exercise is in your workspace."
   ]
  },
  {
   "cell_type": "code",
   "execution_count": null,
   "metadata": {},
   "outputs": [],
   "source": [
    "# Examine the loan_model object\n",
    "loan_model\n",
    "# n= 11312 \n",
    "\n",
    "# node), split, n, loss, yval, (yprob)\n",
    "#       * denotes terminal node\n",
    "\n",
    "#  1) root 11312 5654 repaid (0.4998232 0.5001768)  \n",
    "#    2) credit_score=AVERAGE,LOW 9490 4437 default (0.5324552 0.4675448)  \n",
    "#      4) credit_score=LOW 1667  631 default (0.6214757 0.3785243) *\n",
    "#      5) credit_score=AVERAGE 7823 3806 default (0.5134859 0.4865141)  \n",
    "#       10) loan_amount=HIGH 2472 1079 default (0.5635113 0.4364887) *\n",
    "#       11) loan_amount=LOW,MEDIUM 5351 2624 repaid (0.4903756 0.5096244)  \n",
    "#         22) loan_amount=LOW 1810  874 default (0.5171271 0.4828729) *\n",
    "#         23) loan_amount=MEDIUM 3541 1688 repaid (0.4767015 0.5232985) *\n",
    "#    3) credit_score=HIGH 1822  601 repaid (0.3298573 0.6701427) *\n",
    "\n",
    "# Load the rpart.plot package\n",
    "library(rpart.plot)\n",
    "\n",
    "# Plot the loan_model with default settings\n",
    "rpart.plot(loan_model)\n",
    "\n",
    "# Plot the loan_model with customized settings\n",
    "rpart.plot(loan_model, type = 3, box.palette = c(\"red\", \"green\"), fallen.leaves = TRUE)"
   ]
  },
  {
   "cell_type": "markdown",
   "metadata": {},
   "source": [
    "![loan_model_tree](./figures/tree_1.png)"
   ]
  },
  {
   "cell_type": "markdown",
   "metadata": {},
   "source": [
    "![loan_model_tree](./figures/tree_2.png)"
   ]
  },
  {
   "cell_type": "markdown",
   "metadata": {},
   "source": [
    "#### Creating random test datasets\n",
    "Before building a more sophisticated lending model, it is important to hold out a portion of the loan data to simulate how well it will predict the outcomes of future loan applicants.\n",
    "\n",
    "As depicted in the following image, you can use 75% of the observations for training and 25% for testing the model.\n",
    "\n",
    "\n",
    "\n",
    "The sample() function can be used to generate a random sample of rows to include in the training set. Simply supply it the total number of observations and the number needed for training.\n",
    "\n",
    "Use the resulting vector of row IDs to subset the loans into training and testing datasets. The dataset loans is loaded in your workspace."
   ]
  },
  {
   "cell_type": "code",
   "execution_count": null,
   "metadata": {},
   "outputs": [],
   "source": [
    "# Determine the number of rows for training\n",
    "nrow(loans) * 0.75\n",
    "\n",
    "# Create a random sample of row IDs\n",
    "sample_rows <- sample(nrow(loans), nrow(loans) * 0.75)\n",
    "\n",
    "# Create the training dataset\n",
    "loans_train <- loans[sample_rows, ]\n",
    "\n",
    "# Create the test dataset\n",
    "loans_test <- loans[-sample_rows, ]"
   ]
  },
  {
   "cell_type": "markdown",
   "metadata": {},
   "source": [
    "#### Building and evaluating a larger tree\n",
    "Previously, you created a simple decision tree that used the applicant's credit score and requested loan amount to predict the loan outcome.\n",
    "\n",
    "Lending Club has additional information about the applicants, such as home ownership status, length of employment, loan purpose, and past bankruptcies, that may be useful for making more accurate predictions.\n",
    "\n",
    "Using all of the available applicant data, build a more sophisticated lending model using the random training dataset created previously. Then, use this model to make predictions on the testing dataset to estimate the performance of the model on future loan applications.\n",
    "\n",
    "The rpart package is loaded into the workspace and the loans_train and loans_test datasets have been created.\n",
    "\n"
   ]
  },
  {
   "cell_type": "code",
   "execution_count": null,
   "metadata": {},
   "outputs": [],
   "source": [
    "# Grow a tree using all of the available applicant data\n",
    "loan_model <- rpart(outcome ~ ., data = loans_train, method = \"class\", control = rpart.control(cp = 0))\n",
    "\n",
    "# Make predictions on the test dataset\n",
    "loans_test$pred <- predict(loan_model, loans_test, type = \"class\")\n",
    "\n",
    "# Examine the confusion matrix\n",
    "table(loans_test$outcome, loans_test$pred)\n",
    "#           default repaid\n",
    "#   default     821    632\n",
    "#   repaid      546    829\n",
    "\n",
    "# Compute the accuracy on the test dataset\n",
    "mean(loans_test$outcome == loans_test$pred)\n",
    "# [1] 0.5834512\n"
   ]
  },
  {
   "cell_type": "markdown",
   "metadata": {},
   "source": [
    "#### Preventing overgrown trees\n",
    "The tree grown on the full set of applicant data grew to be extremely large and extremely complex, with hundreds of splits and leaf nodes containing only a handful of applicants. This tree would be almost impossible for a loan officer to interpret.\n",
    "\n",
    "Using the pre-pruning methods for early stopping, you can prevent a tree from growing too large and complex. See how the rpart control options for maximum tree depth and minimum split count impact the resulting tree.\n",
    "\n",
    "rpart is loaded."
   ]
  },
  {
   "cell_type": "code",
   "execution_count": null,
   "metadata": {},
   "outputs": [],
   "source": [
    "# Swap maxdepth for a minimum split of 500 \n",
    "loan_model <- rpart(outcome ~ ., data = loans_train, method = \"class\", control = rpart.control(cp = 0, minsplit = 500))\n",
    "\n",
    "# Run this. How does the accuracy change?\n",
    "loans_test$pred <- predict(loan_model, loans_test, type = \"class\")\n",
    "\n",
    "mean(loans_test$pred == loans_test$outcome)\n",
    "# [1] 0.5922914"
   ]
  },
  {
   "cell_type": "markdown",
   "metadata": {},
   "source": [
    "#### Creating a nicely pruned tree\n",
    "Stopping a tree from growing all the way can lead it to ignore some aspects of the data or miss important trends it may have discovered later.\n",
    "\n",
    "By using post-pruning, you can intentionally grow a large and complex tree then prune it to be smaller and more efficient later on.\n",
    "\n",
    "In this exercise, you will have the opportunity to construct a visualization of the tree's performance versus complexity, and use this information to prune the tree to an appropriate level.\n",
    "\n",
    "The rpart package is loaded into the workspace, along with loans_test and loans_train."
   ]
  },
  {
   "cell_type": "code",
   "execution_count": null,
   "metadata": {},
   "outputs": [],
   "source": [
    "# Grow an overly complex tree\n",
    "loan_model <- rpart(outcome ~., data = loans_train, method = \"class\", control = rpart.control(cp = 0))\n",
    "\n",
    "# Examine the complexity plot\n",
    "plotcp(loan_model)\n",
    "\n",
    "# Prune the tree\n",
    "loan_model_pruned <- prune(loan_model, cp = 0.0014)\n",
    "\n",
    "# Compute the accuracy of the pruned tree\n",
    "loans_test$pred <- predict(loan_model_pruned, loans_test, type = \"class\")\n",
    "mean(loans_test$outcome == loans_test$pred)\n",
    "# [1] 0.6007779"
   ]
  },
  {
   "cell_type": "markdown",
   "metadata": {},
   "source": [
    "![post_pruned_tree](./figures/tree_3.png)"
   ]
  },
  {
   "cell_type": "markdown",
   "metadata": {},
   "source": [
    "#### Building a random forest model\n",
    "In spite of the fact that a forest can contain hundreds of trees, growing a decision tree forest is perhaps even easier than creating a single highly-tuned tree.\n",
    "\n",
    "Using the randomForest package, build a random forest and see how it compares to the single trees you built previously.\n",
    "\n",
    "Keep in mind that due to the random nature of the forest, the results may vary slightly each time you create the forest."
   ]
  },
  {
   "cell_type": "code",
   "execution_count": null,
   "metadata": {},
   "outputs": [],
   "source": [
    "# Load the randomForest package\n",
    "library(randomForest)\n",
    "\n",
    "# Build a random forest model\n",
    "loan_model <- randomForest(outcome ~ . , data = loans_train)\n",
    "\n",
    "# Compute the accuracy of the random forest\n",
    "loans_test$pred <- predict(loan_model, loans_test, type = \"class\")\n",
    "mean(loans_test$outcome == loans_test$pred)\n",
    "# [1] 0.6000707"
   ]
  }
 ],
 "metadata": {
  "kernelspec": {
   "display_name": "R [conda env:CHIAPETR]",
   "language": "R",
   "name": "conda-env-CHIAPETR-r"
  },
  "language_info": {
   "codemirror_mode": "r",
   "file_extension": ".r",
   "mimetype": "text/x-r-source",
   "name": "R",
   "pygments_lexer": "r",
   "version": "3.6.0"
  }
 },
 "nbformat": 4,
 "nbformat_minor": 2
}
