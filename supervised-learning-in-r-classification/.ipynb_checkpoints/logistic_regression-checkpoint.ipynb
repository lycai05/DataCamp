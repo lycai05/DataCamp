{
 "cells": [
  {
   "cell_type": "markdown",
   "metadata": {},
   "source": [
    "#### Building simple logistic regression models\n",
    "The donors dataset contains 93,462 examples of people mailed in a fundraising solicitation for paralyzed military veterans. The donated column is 1 if the person made a donation in response to the mailing and 0 otherwise. This binary outcome will be the dependent variable for the logistic regression model.\n",
    "\n",
    "The remaining columns are features of the prospective donors that may influence their donation behavior. These are the model's independent variables.\n",
    "\n",
    "When building a regression model, it is often helpful to form a hypothesis about which independent variables will be predictive of the dependent variable. The bad_address column, which is set to 1 for an invalid mailing address and 0 otherwise, seems like it might reduce the chances of a donation. Similarly, one might suspect that religious interest (interest_religion) and interest in veterans affairs (interest_veterans) would be associated with greater charitable giving.\n",
    "\n",
    "In this exercise, you will use these three factors to create a simple model of donation behavior. The dataset donors is available in your workspace."
   ]
  },
  {
   "cell_type": "code",
   "execution_count": null,
   "metadata": {},
   "outputs": [],
   "source": [
    "# Examine the dataset to identify potential independent variables\n",
    "str(donors)\n",
    "#'data.frame':\t93462 obs. of  13 variables:\n",
    "# $ donated          : int  0 0 0 0 0 0 0 0 0 0 ...\n",
    "# $ veteran          : int  0 0 0 0 0 0 0 0 0 0 ...\n",
    "# $ bad_address      : int  0 0 0 0 0 0 0 0 0 0 ...\n",
    "# $ age              : int  60 46 NA 70 78 NA 38 NA NA 65 ...\n",
    "# $ has_children     : int  0 1 0 0 1 0 1 0 0 0 ...\n",
    "# $ wealth_rating    : int  0 3 1 2 1 0 2 3 1 0 ...\n",
    "# $ interest_veterans: int  0 0 0 0 0 0 0 0 0 0 ...\n",
    "# $ interest_religion: int  0 0 0 0 1 0 0 0 0 0 ...\n",
    "# $ pet_owner        : int  0 0 0 0 0 0 1 0 0 0 ...\n",
    "# $ catalog_shopper  : int  0 0 0 0 1 0 0 0 0 0 ...\n",
    "# $ recency          : Factor w/ 2 levels \"CURRENT\",\"LAPSED\": 1 1 1 1 1 1 1 1 1 1 ...\n",
    "# $ frequency        : Factor w/ 2 levels \"FREQUENT\",\"INFREQUENT\": 1 1 1 1 1 2 2 1 2 2 ...\n",
    "# $ money            : Factor w/ 2 levels \"HIGH\",\"MEDIUM\": 2 1 2 2 2 2 2 2 2 2 ...\n",
    "\n",
    "# Explore the dependent variable\n",
    "table(donors$donated)\n",
    "#     0     1 \n",
    "# 88751  4711\n",
    "\n",
    "# Build the donation model\n",
    "donation_model <- glm(donated ~ bad_address + interest_religion + interest_veterans, data = donors, family = \"binomial\")\n",
    "\n",
    "# Summarize the model results\n",
    "summary(donation_model)\n",
    "# Call:\n",
    "# glm(formula = donated ~ bad_address + interest_religion + interest_veterans, \n",
    "#     family = \"binomial\", data = donors)\n",
    "\n",
    "# Deviance Residuals: \n",
    "#     Min       1Q   Median       3Q      Max  \n",
    "# -0.3480  -0.3192  -0.3192  -0.3192   2.5678  \n",
    "\n",
    "# Coefficients:\n",
    "#                   Estimate Std. Error  z value Pr(>|z|)    \n",
    "# (Intercept)       -2.95139    0.01652 -178.664   <2e-16 ***\n",
    "# bad_address       -0.30780    0.14348   -2.145   0.0319 *  \n",
    "# interest_religion  0.06724    0.05069    1.327   0.1847    \n",
    "# interest_veterans  0.11009    0.04676    2.354   0.0186 *  \n",
    "# ---\n",
    "# Signif. codes:  0 '***' 0.001 '**' 0.01 '*' 0.05 '.' 0.1 ' ' 1\n",
    "\n",
    "# (Dispersion parameter for binomial family taken to be 1)\n",
    "\n",
    "#     Null deviance: 37330  on 93461  degrees of freedom\n",
    "# Residual deviance: 37316  on 93458  degrees of freedom\n",
    "# AIC: 37324\n",
    "\n",
    "# Number of Fisher Scoring iterations: 5"
   ]
  },
  {
   "cell_type": "markdown",
   "metadata": {},
   "source": [
    "#### Making a binary prediction\n",
    "In the previous exercise, you used the glm() function to build a logistic regression model of donor behavior. As with many of R's machine learning methods, you can apply the predict() function to the model object to forecast future behavior. By default, predict() outputs predictions in terms of log odds unless type = \"response\" is specified. This converts the log odds to probabilities.\n",
    "\n",
    "Because a logistic regression model estimates the probability of the outcome, it is up to you to determine the threshold at which the probability implies action. One must balance the extremes of being too cautious versus being too aggressive. For example, if you were to solicit only the people with a 99% or greater donation probability, you may miss out on many people with lower estimated probabilities that still choose to donate. This balance is particularly important to consider for severely imbalanced outcomes, such as in this dataset where donations are relatively rare.\n",
    "\n",
    "The dataset donors and the model donation_model are already loaded in your workspace."
   ]
  },
  {
   "cell_type": "code",
   "execution_count": null,
   "metadata": {},
   "outputs": [],
   "source": [
    "# Estimate the donation probability\n",
    "donors$donation_prob <- predict(donation_model, type = \"response\")\n",
    "\n",
    "# Find the donation probability of the average prospect\n",
    "mean(donors$donated)\n",
    "# [1] 0.05040551\n",
    "\n",
    "# Predict a donation if probability of donation is greater than average (0.0504)\n",
    "donors$donation_pred <- ifelse(donors$donation_prob > 0.0504, 1, 0)\n",
    "\n",
    "# Calculate the model's accuracy\n",
    "mean(donors$donation_pred == donors$donated)\n",
    "# [1] 0.794815"
   ]
  },
  {
   "cell_type": "markdown",
   "metadata": {},
   "source": [
    "#### Calculating ROC Curves and AUC\n",
    "The previous exercises have demonstrated that accuracy is a very misleading measure of model performance on imbalanced datasets. Graphing the model's performance better illustrates the tradeoff between a model that is overly agressive and one that is overly passive.\n",
    "\n",
    "In this exercise you will create a ROC curve and compute the area under the curve (AUC) to evaluate the logistic regression model of donations you built earlier.\n",
    "\n",
    "The dataset donors with the column of predicted probabilities, donation_prob ,is already loaded in your workspace."
   ]
  },
  {
   "cell_type": "code",
   "execution_count": null,
   "metadata": {},
   "outputs": [],
   "source": [
    "# Load the pROC package\n",
    "library(pROC)\n",
    "\n",
    "# Create a ROC curve\n",
    "ROC <- roc(donors$donated, donors$donation_prob)\n",
    "\n",
    "# Plot the ROC curve\n",
    "plot(ROC, col = \"blue\")\n",
    "\n",
    "# Calculate the area under the curve (AUC)\n",
    "auc(ROC)\n",
    "# Area under the curve: 0.5102"
   ]
  },
  {
   "cell_type": "markdown",
   "metadata": {},
   "source": [
    "![ROC_1](./figures/roc_1.png)"
   ]
  },
  {
   "cell_type": "markdown",
   "metadata": {},
   "source": [
    "#### Coding categorical features\n",
    "Sometimes a dataset contains numeric values that represent a categorical feature.\n",
    "\n",
    "In the donors dataset, wealth_rating uses numbers to indicate the donor's wealth level:\n",
    "\n",
    "0 = Unknown\n",
    "1 = Low\n",
    "2 = Medium\n",
    "3 = High\n",
    "This exercise illustrates how to prepare this type of categorical feature and examines its impact on a logistic regression model. The dataframe donors is loaded in your workspace."
   ]
  },
  {
   "cell_type": "code",
   "execution_count": null,
   "metadata": {},
   "outputs": [],
   "source": [
    "# Convert the wealth rating to a factor\n",
    "donors$wealth_levels <- factor(donors$wealth_rating, levels = c(0, 1, 2, 3), labels = c(\"Unknown\", \"Low\", \"Medium\", \"High\"))\n",
    "\n",
    "# Use relevel() to change reference category\n",
    "donors$wealth_levels <- relevel(donors$wealth_levels, ref = \"Medium\")\n",
    "\n",
    "# See how our factor coding impacts the model\n",
    "donation_model2 <- glm(donated ~ wealth_levels, data = donors, family = \"binomial\")\n",
    "summary(donation_model2)\n",
    "# Call:\n",
    "# glm(formula = donated ~ wealth_levels, family = \"binomial\", data = donors)\n",
    "\n",
    "# Deviance Residuals: \n",
    "#     Min       1Q   Median       3Q      Max  \n",
    "# -0.3320  -0.3243  -0.3175  -0.3175   2.4582  \n",
    "\n",
    "# Coefficients:\n",
    "#                      Estimate Std. Error z value Pr(>|z|)    \n",
    "# (Intercept)          -2.91894    0.03614 -80.772   <2e-16 ***\n",
    "# wealth_levelsUnknown -0.04373    0.04243  -1.031    0.303    \n",
    "# wealth_levelsLow     -0.05245    0.05332  -0.984    0.325    \n",
    "# wealth_levelsHigh     0.04804    0.04768   1.008    0.314    \n",
    "# ---\n",
    "# Signif. codes:  0 '***' 0.001 '**' 0.01 '*' 0.05 '.' 0.1 ' ' 1\n",
    "\n",
    "# (Dispersion parameter for binomial family taken to be 1)\n",
    "\n",
    "#     Null deviance: 37330  on 93461  degrees of freedom\n",
    "# Residual deviance: 37323  on 93458  degrees of freedom\n",
    "# AIC: 37331\n",
    "\n",
    "# Number of Fisher Scoring iterations: 5"
   ]
  },
  {
   "cell_type": "markdown",
   "metadata": {},
   "source": [
    "#### Handling missing data\n",
    "Some of the prospective donors have missing age data. Unfortunately, R will exclude any cases with NA values when building a regression model.\n",
    "\n",
    "One workaround is to replace, or impute, the missing values with an estimated value. After doing so, you may also create a missing data indicator to model the possibility that cases with missing data are different in some way from those without.\n",
    "\n",
    "The dataframe donors is loaded in your workspace."
   ]
  },
  {
   "cell_type": "code",
   "execution_count": null,
   "metadata": {},
   "outputs": [],
   "source": [
    "# Find the average age among non-missing values\n",
    "summary(donors$age)\n",
    "\n",
    "# Impute missing age values with the mean age\n",
    "donors$imputed_age <- ifelse(is.na(donors$age), round(mean(donors$age, na.rm = TRUE), 2), donors$age)\n",
    "\n",
    "# Create missing value indicator for age\n",
    "donors$missing_age <- ifelse(is.na(donors$age), 1, 0)"
   ]
  },
  {
   "cell_type": "markdown",
   "metadata": {},
   "source": [
    "#### Building a more sophisticated model\n",
    "One of the best predictors of future giving is a history of recent, frequent, and large gifts. In marketing terms, this is known as R/F/M:\n",
    "\n",
    "Recency\n",
    "Frequency\n",
    "Money\n",
    "Donors that haven't given both recently and frequently may be especially likely to give again; in other words, the combined impact of recency and frequency may be greater than the sum of the separate effects.\n",
    "\n",
    "Because these predictors together have a greater impact on the dependent variable, their joint effect must be modeled as an interaction. The donors dataset has been loaded for you."
   ]
  },
  {
   "cell_type": "code",
   "execution_count": null,
   "metadata": {},
   "outputs": [],
   "source": [
    "# Build a recency, frequency, and money (RFM) model\n",
    "rfm_model <- glm(donated ~ money + recency * frequency, data = donors, family = \"binomial\")\n",
    "\n",
    "# Summarize the RFM model to see how the parameters were coded\n",
    "summary(rfm_model)\n",
    "# Call:\n",
    "# glm(formula = donated ~ money + recency * frequency, family = \"binomial\", \n",
    "#     data = donors)\n",
    "\n",
    "# Deviance Residuals: \n",
    "#     Min       1Q   Median       3Q      Max  \n",
    "# -0.3696  -0.3696  -0.2895  -0.2895   2.7924  \n",
    "\n",
    "# Coefficients:\n",
    "#                                  Estimate Std. Error z value Pr(>|z|)    \n",
    "# (Intercept)                       -2.9999     0.3086  -9.721   <2e-16 ***\n",
    "# moneyHIGH                         -0.3619     0.0430  -8.415   <2e-16 ***\n",
    "# recencyCURRENT                    -0.1511     0.3094  -0.488    0.625    \n",
    "# frequencyFREQUENT                 -0.5164     0.5162  -1.000    0.317    \n",
    "# recencyCURRENT:frequencyFREQUENT   1.0179     0.5171   1.968    0.049 *  \n",
    "# ---\n",
    "# Signif. codes:  0 '***' 0.001 '**' 0.01 '*' 0.05 '.' 0.1 ' ' 1\n",
    "\n",
    "# (Dispersion parameter for binomial family taken to be 1)\n",
    "\n",
    "#     Null deviance: 37330  on 93461  degrees of freedom\n",
    "# Residual deviance: 36938  on 93457  degrees of freedom\n",
    "# AIC: 36948\n",
    "\n",
    "# Number of Fisher Scoring iterations: 6\n",
    "\n",
    "# Compute predicted probabilities for the RFM model\n",
    "rfm_prob <- predict(rfm_model, type = \"response\")\n",
    "\n",
    "# Plot the ROC curve and find AUC for the new model\n",
    "library(pROC)\n",
    "ROC <- roc(donors$donated, rfm_prob)\n",
    "plot(ROC, col = \"red\")\n",
    "auc(ROC)\n",
    "# Area under the curve: 0.5785"
   ]
  },
  {
   "cell_type": "markdown",
   "metadata": {},
   "source": [
    "![ROC_2](./figures/roc_2.png)"
   ]
  },
  {
   "cell_type": "markdown",
   "metadata": {},
   "source": [
    "#### Building a stepwise regression model\n",
    "In the absence of subject-matter expertise, stepwise regression can assist with the search for the most important predictors of the outcome of interest.\n",
    "\n",
    "In this exercise, you will use a forward stepwise approach to add predictors to the model one-by-one until no additional benefit is seen. The donors dataset has been loaded for you."
   ]
  },
  {
   "cell_type": "code",
   "execution_count": null,
   "metadata": {},
   "outputs": [],
   "source": [
    "# Specify a null model with no predictors\n",
    "null_model <- glm(donated ~ 1, data = donors, family = \"binomial\")\n",
    "\n",
    "# Specify the full model using all of the potential predictors\n",
    "full_model <- glm(donated ~ ., data = donors, family = \"binomial\")\n",
    "\n",
    "# Use a forward stepwise algorithm to build a parsimonious model\n",
    "step_model <- step(null_model, scope = list(lower = null_model, upper = full_model), direction = \"forward\")\n",
    "summary(step_model)\n",
    "# Call:\n",
    "# glm(formula = donated ~ frequency + money + wealth_rating + interest_veterans + \n",
    "#     bad_address + veteran + interest_religion, family = \"binomial\", \n",
    "#     data = donors)\n",
    "\n",
    "# Deviance Residuals: \n",
    "#     Min       1Q   Median       3Q      Max  \n",
    "# -0.4370  -0.3656  -0.2956  -0.2708   2.9548  \n",
    "\n",
    "# Coefficients:\n",
    "#                       Estimate Std. Error z value Pr(>|z|)    \n",
    "# (Intercept)           -3.28749    0.09615 -34.193  < 2e-16 ***\n",
    "# frequencyFREQUENT      0.52886    0.06879   7.688 1.50e-14 ***\n",
    "# moneyHIGH             -0.43664    0.09691  -4.506 6.61e-06 ***\n",
    "# wealth_ratingUnknown   0.08651    0.09554   0.906   0.3652    \n",
    "# wealth_ratingLow      -0.08280    0.12167  -0.680   0.4962    \n",
    "# wealth_ratingHigh      0.22031    0.10562   2.086   0.0370 *  \n",
    "# interest_veterans      0.23755    0.09970   2.383   0.0172 *  \n",
    "# bad_address           -0.71499    0.38479  -1.858   0.0632 .  \n",
    "# veteran              -11.67050  182.67951  -0.064   0.9491    \n",
    "# interest_religion     -0.16891    0.11952  -1.413   0.1576    \n",
    "# ---\n",
    "# Signif. codes:  0 '***' 0.001 '**' 0.01 '*' 0.05 '.' 0.1 ' ' 1\n",
    "\n",
    "# (Dispersion parameter for binomial family taken to be 1)\n",
    "\n",
    "#     Null deviance: 7739.2  on 19999  degrees of freedom\n",
    "# Residual deviance: 7624.6  on 19990  degrees of freedom\n",
    "# AIC: 7644.6\n",
    "\n",
    "# Number of Fisher Scoring iterations: 13\n",
    "\n",
    "# Estimate the stepwise donation probability\n",
    "step_prob <- predict(step_model, type = \"response\")\n",
    "\n",
    "# Plot the ROC of the stepwise model\n",
    "library(pROC)\n",
    "ROC <- roc(donors$donated, step_prob)\n",
    "plot(ROC, col = \"red\")\n",
    "auc(ROC)\n",
    "# Area under the curve: 0.6006"
   ]
  },
  {
   "cell_type": "markdown",
   "metadata": {},
   "source": [
    "![ROC_3](./figures/roc_3.png)"
   ]
  },
  {
   "cell_type": "code",
   "execution_count": null,
   "metadata": {},
   "outputs": [],
   "source": []
  }
 ],
 "metadata": {
  "kernelspec": {
   "display_name": "R [conda env:CHIAPETR]",
   "language": "R",
   "name": "conda-env-CHIAPETR-r"
  },
  "language_info": {
   "codemirror_mode": "r",
   "file_extension": ".r",
   "mimetype": "text/x-r-source",
   "name": "R",
   "pygments_lexer": "r",
   "version": "3.6.0"
  }
 },
 "nbformat": 4,
 "nbformat_minor": 2
}
