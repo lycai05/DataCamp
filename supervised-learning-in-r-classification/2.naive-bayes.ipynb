{
 "cells": [
  {
   "cell_type": "markdown",
   "metadata": {},
   "source": [
    "#### Computing probabilities\n",
    "The where9am data frame contains 91 days (thirteen weeks) worth of data in which Brett recorded his location at 9am each day as well as whether the daytype was a weekend or weekday.\n",
    "\n",
    "Using the conditional probability formula below, you can compute the probability that Brett is working in the office, given that it is a weekday.\n",
    "\n",
    "P(A|B)=P(A and B)/P(B)\n",
    "Calculations like these are the basis of the Naive Bayes destination prediction model you'll develop in later exercises."
   ]
  },
  {
   "cell_type": "code",
   "execution_count": null,
   "metadata": {},
   "outputs": [],
   "source": [
    "# Compute P(A) \n",
    "p_A <- nrow(subset(where9am, location == \"office\")) / nrow(where9am)\n",
    "\n",
    "# Compute P(B)\n",
    "p_B <- nrow(subset(where9am, daytype == \"weekday\")) / nrow(where9am)\n",
    "\n",
    "# Compute the observed P(A and B)\n",
    "p_AB <- nrow(subset(where9am, location == \"office\" & daytype == \"weekday\")) / nrow(where9am)\n",
    "\n",
    "# Compute P(A | B) and print its value\n",
    "p_A_given_B <- p_AB / p_B"
   ]
  },
  {
   "cell_type": "markdown",
   "metadata": {},
   "source": [
    "#### A simple Naive Bayes location model\n",
    "The previous exercises showed that the probability that Brett is at work or at home at 9am is highly dependent on whether it is the weekend or a weekday.\n",
    "\n",
    "To see this finding in action, use the where9am data frame to build a Naive Bayes model on the same data.\n",
    "\n",
    "You can then use this model to predict the future: where does the model think that Brett will be at 9am on Thursday and at 9am on Saturday?\n",
    "\n",
    "The dataframe where9am is available in your workspace. This dataset contains information about Brett's location at 9am on different days."
   ]
  },
  {
   "cell_type": "code",
   "execution_count": null,
   "metadata": {},
   "outputs": [],
   "source": [
    "# Load the naivebayes package\n",
    "library(naivebayes)\n",
    "\n",
    "# Build the location prediction model\n",
    "locmodel <- naive_bayes(location ~ daytype, data = where9am)\n",
    "\n",
    "# Predict Thursday's 9am location\n",
    "predict(locmodel, thursday9am)\n",
    "\n",
    "# Predict Saturdays's 9am location\n",
    "predict(locmodel, saturday9am)"
   ]
  },
  {
   "cell_type": "markdown",
   "metadata": {},
   "source": [
    "#### Examining \"raw\" probabilities\n",
    "The naivebayes package offers several ways to peek inside a Naive Bayes model.\n",
    "\n",
    "Typing the name of the model object provides the a priori (overall) and conditional probabilities of each of the model's predictors. If one were so inclined, you might use these for calculating posterior (predicted) probabilities by hand.\n",
    "\n",
    "Alternatively, R will compute the posterior probabilities for you if the type = \"prob\" parameter is supplied to the predict() function.\n",
    "\n",
    "Using these methods, examine how the model's predicted 9am location probability varies from day-to-day. The model locmodel that you fit in the previous exercise is in your workspace."
   ]
  },
  {
   "cell_type": "code",
   "execution_count": null,
   "metadata": {},
   "outputs": [],
   "source": [
    "# The 'naivebayes' package is loaded into the workspace\n",
    "# and the Naive Bayes 'locmodel' has been built\n",
    "\n",
    "# Print the locmodel object to the console to view the computed a priori and conditional probabilities.locmodel\n",
    "locmodel\n",
    "#===================== Naive Bayes ===================== \n",
    "#Call: \n",
    "#naive_bayes.formula(formula = location ~ daytype, data = where9am)\n",
    "\n",
    "#A priori probabilities: \n",
    "\n",
    "#appointment      campus        home      office \n",
    "# 0.01098901  0.10989011  0.45054945  0.42857143 \n",
    "\n",
    "#Tables: \n",
    "         \n",
    "#daytype   appointment    campus      home    office\n",
    "#  weekday   1.0000000 1.0000000 0.3658537 1.0000000\n",
    "#  weekend   0.0000000 0.0000000 0.6341463 0.0000000\n",
    "\n",
    "# Obtain the predicted probabilities for Thursday at 9am\n",
    "predict(locmodel, thursday9am , type = \"prob\")\n",
    "#     appointment    campus      home office\n",
    "#[1,]  0.01538462 0.1538462 0.2307692    0.6\n",
    "\n",
    "# Obtain the predicted probabilities for Saturday at 9am\n",
    "predict(locmodel, saturday9am , type = \"prob\")\n",
    "#     appointment campus home office\n",
    "#[1,]           0      0    1      0"
   ]
  },
  {
   "cell_type": "markdown",
   "metadata": {},
   "source": [
    "#### Who are you calling naive?\n",
    "The Naive Bayes algorithm got its name because it makes a \"naive\" assumption about event independence.\n",
    "\n",
    "What is the purpose of making this assumption?\n",
    "\n",
    "The joint probability calculation is simpler for independent events."
   ]
  },
  {
   "cell_type": "markdown",
   "metadata": {},
   "source": [
    "#### A more sophisticated location model\n",
    "The locations dataset records Brett's location every hour for 13 weeks. Each hour, the tracking information includes the daytype (weekend or weekday) as well as the hourtype (morning, afternoon, evening, or night).\n",
    "\n",
    "Using this data, build a more sophisticated model to see how Brett's predicted location not only varies by the day of week but also by the time of day. The dataset locations is already loaded in your workspace.\n",
    "\n",
    "You can specify additional independent variables in your formula using the + sign (e.g. y ~ x + b)."
   ]
  },
  {
   "cell_type": "code",
   "execution_count": null,
   "metadata": {},
   "outputs": [],
   "source": [
    "# Build a NB model of location\n",
    "locmodel <- naive_bayes(location ~ daytype + hourtype, locations)\n",
    "\n",
    "# Predict Brett's location on a weekday afternoon\n",
    "predict(locmodel, weekday_afternoon)\n",
    "\n",
    "# Predict Brett's location on a weekday evening\n",
    "predict(locmodel, weekday_evening)"
   ]
  },
  {
   "cell_type": "markdown",
   "metadata": {},
   "source": [
    "#### Preparing for unforeseen circumstances\n",
    "While Brett was tracking his location over 13 weeks, he never went into the office during the weekend. Consequently, the joint probability of P(office and weekend) = 0.\n",
    "\n",
    "Explore how this impacts the predicted probability that Brett may go to work on the weekend in the future. Additionally, you can see how using the Laplace correction will allow a small chance for these types of unforeseen circumstances.\n",
    "\n",
    "The model locmodel is already in your workspace, along with the dataframe weekend_afternoon."
   ]
  },
  {
   "cell_type": "code",
   "execution_count": null,
   "metadata": {},
   "outputs": [],
   "source": [
    "# The 'naivebayes' package is loaded into the workspace already\n",
    "# The Naive Bayes location model (locmodel) has already been built\n",
    "\n",
    "# Observe the predicted probabilities for a weekend afternoon\n",
    "predict(locmodel, weekend_afternoon, type = \"prob\")\n",
    "#     appointment campus      home office restaurant      store theater\n",
    "#[1,]  0.02472535      0 0.8472217      0  0.1115693 0.01648357       0\n",
    "\n",
    "# Build a new model using the Laplace correction\n",
    "locmodel2 <- naive_bayes(location ~ daytype + hourtype, locations, laplace = 1)\n",
    "\n",
    "# Observe the new predicted probabilities for a weekend afternoon\n",
    "predict(locmodel2, weekend_afternoon, type = \"prob\")\n",
    "#     appointment      campus      home      office restaurant      store\n",
    "#[1,]  0.01107985 0.005752078 0.8527053 0.008023444  0.1032598 0.01608175\n",
    "#         theater\n",
    "#[1,] 0.003097769"
   ]
  }
 ],
 "metadata": {
  "kernelspec": {
   "display_name": "R [conda env:CHIAPETR]",
   "language": "R",
   "name": "conda-env-CHIAPETR-r"
  },
  "language_info": {
   "codemirror_mode": "r",
   "file_extension": ".r",
   "mimetype": "text/x-r-source",
   "name": "R",
   "pygments_lexer": "r",
   "version": "3.6.0"
  }
 },
 "nbformat": 4,
 "nbformat_minor": 2
}
